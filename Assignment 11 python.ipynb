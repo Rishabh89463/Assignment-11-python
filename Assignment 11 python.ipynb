{
 "cells": [
  {
   "cell_type": "code",
   "execution_count": 1,
   "id": "7625535b-1ed3-4604-aee0-1f12fae49be1",
   "metadata": {},
   "outputs": [],
   "source": [
    "# 1. Create an assert statement that throws an AssertionError if the variable spam is a negative\n",
    "You can use the assert statement in Python to throw an AssertionError if a certain condition is not met. For your case, you want to check if the variable spam is a negative integer and throw an AssertionError if it is. Here's how you can do it:# integer."
   ]
  },
  {
   "cell_type": "code",
   "execution_count": 3,
   "id": "96424665-5553-41fb-9891-4b275de3cd34",
   "metadata": {},
   "outputs": [],
   "source": [
    "# You can use the assert statement in Python to throw an AssertionError if a certain condition is not met. For your case, you want to check if the variable spam is a negative integer and throw an AssertionError if it is. Here's how you can do it:\n",
    "# assert spam >= 0, \"spam should not be a negative integer\"\n"
   ]
  },
  {
   "cell_type": "code",
   "execution_count": 4,
   "id": "602c03ea-da46-486d-af54-baf2fda63e32",
   "metadata": {},
   "outputs": [],
   "source": [
    "# 2. Write an assert statement that triggers an AssertionError if the variables eggs and bacon contain\n",
    "# strings that are the same as each other, even if their cases are different (that is, &#39;hello&#39; and &#39;hello&#39; are\n",
    "# considered the same, and &#39;goodbye&#39; and &#39;GOODbye&#39; are also considered the same)."
   ]
  },
  {
   "cell_type": "code",
   "execution_count": 6,
   "id": "8b9975b7-6785-449a-809a-f6427f0b31ff",
   "metadata": {},
   "outputs": [],
   "source": [
    "# # To ensure that the variables eggs and bacon do not contain strings that are the same (ignoring case differences), you can use an assert statement that compares the lowercase versions of both variables. Here’s how you can do it:\n",
    "    \n",
    "# assert eggs.lower() != bacon.lower(), \"eggs and bacon should not contain the same string, regardless of case\"\n",
    "    "
   ]
  },
  {
   "cell_type": "code",
   "execution_count": 7,
   "id": "e4ef3a00-d945-474f-859b-775c27bb9a91",
   "metadata": {},
   "outputs": [],
   "source": [
    "# 3. Create an assert statement that throws an AssertionError every time."
   ]
  },
  {
   "cell_type": "code",
   "execution_count": 8,
   "id": "10f989a4-b8ed-47fc-a280-9e11a7c55977",
   "metadata": {},
   "outputs": [],
   "source": [
    "# To create an assert statement that always throws an AssertionError, you can simply assert False. Here's how:\n",
    "\n",
    "# assert False, \"This assertion always fails\"\n"
   ]
  },
  {
   "cell_type": "code",
   "execution_count": 9,
   "id": "a833252d-13f4-4046-89be-b0c9d0bf1d72",
   "metadata": {},
   "outputs": [],
   "source": [
    "# 4. What are the two lines that must be present in your software in order to call logging.debug()?"
   ]
  },
  {
   "cell_type": "code",
   "execution_count": 10,
   "id": "d7760994-aba6-4e0f-988d-2cafc3f93338",
   "metadata": {},
   "outputs": [],
   "source": [
    "# To use logging.debug() in your software, you need to import the logging module and configure the logging system. Here are the two lines that must be present:\n",
    "\n",
    "# Import the logging module:\n",
    "\n",
    "import logging\n",
    "\n",
    "# Configure the logging level to include debug messages:\n",
    "\n",
    "logging.basicConfig(level=logging.DEBUG)"
   ]
  },
  {
   "cell_type": "code",
   "execution_count": 11,
   "id": "1dcc1552-7429-4ca6-badd-a4fb19af624e",
   "metadata": {},
   "outputs": [],
   "source": [
    "# 5. What are the two lines that your program must have in order to have logging.debug() send a\n",
    "# logging message to a file named programLog.txt?"
   ]
  },
  {
   "cell_type": "code",
   "execution_count": 12,
   "id": "018bd0a2-6f79-49a1-a5c7-a0db32807bc5",
   "metadata": {},
   "outputs": [],
   "source": [
    "# To have logging.debug() send a logging message to a file named programLog.txt, you need to configure the logging module to write to that file. Here are the two lines required:\n",
    "\n",
    "# Import the logging module:\n",
    "\n",
    "import logging\n",
    "\n",
    "# Configure the logging to write to a file named programLog.txt:\n",
    "\n",
    "\n",
    "logging.basicConfig(filename='programLog.txt', level=logging.DEBUG)"
   ]
  },
  {
   "cell_type": "code",
   "execution_count": 13,
   "id": "e66e79df-b905-4ce2-9220-487621a8ce67",
   "metadata": {},
   "outputs": [],
   "source": [
    "# 6. What are the five levels of logging?"
   ]
  },
  {
   "cell_type": "code",
   "execution_count": 14,
   "id": "92b0a198-f926-4cb7-925a-d29f143caaaa",
   "metadata": {},
   "outputs": [],
   "source": [
    "# The five standard levels of logging in Python, in order of increasing severity, are:\n",
    "\n",
    "# DEBUG: Detailed information, typically used for diagnosing problems. It's the lowest severity level.\n",
    "# INFO: General information about the program's execution, useful for understanding the program's progress.\n",
    "# WARNING: Indicates that something unexpected happened or that there might be a problem in the near future. It’s a sign that something might need attention.\n",
    "# ERROR: Indicates a more serious problem that prevented the program from performing a function.\n",
    "# CRITICAL: A very serious error that may prevent the program from continuing to run."
   ]
  },
  {
   "cell_type": "code",
   "execution_count": 15,
   "id": "88c6693e-b6f5-4f1c-ac5f-bb26740b3a7a",
   "metadata": {},
   "outputs": [],
   "source": [
    "# 7. What line of code would you add to your software to disable all logging messages?"
   ]
  },
  {
   "cell_type": "code",
   "execution_count": 16,
   "id": "4997dd7b-0445-440e-82e7-431c0de6a648",
   "metadata": {},
   "outputs": [],
   "source": [
    "# To disable all logging messages in your software, you can set the logging level to a value higher than the highest possible level. The highest level is CRITICAL, so setting the logging level to CRITICAL + 1 effectively disables all logging messages. Here's the line of code you would add:\n",
    "\n",
    "logging.disable(logging.CRITICAL + 1)\n"
   ]
  },
  {
   "cell_type": "code",
   "execution_count": 17,
   "id": "6473b45b-ee8a-4204-ac50-3877fb6df6f4",
   "metadata": {},
   "outputs": [],
   "source": [
    "# 8.Why is using logging messages better than using print() to display the same message?"
   ]
  },
  {
   "cell_type": "code",
   "execution_count": 18,
   "id": "be04f371-14b2-48ae-8f08-9fdebc1e9f0a",
   "metadata": {},
   "outputs": [],
   "source": [
    "# Using logging messages is better than print() because logging provides configurable severity levels, enables output redirection to files or other destinations, and supports structured logging with timestamps and contexts. Unlike print(), which is static and less flexible, logging allows for better management, filtering, and analysis of messages, enhancing debugging and monitoring."
   ]
  },
  {
   "cell_type": "code",
   "execution_count": 19,
   "id": "9b71f2b8-fdd6-479e-b868-32fe5621276d",
   "metadata": {},
   "outputs": [],
   "source": [
    "# 9. What are the differences between the Step Over, Step In, and Step Out buttons in the debugger?"
   ]
  },
  {
   "cell_type": "code",
   "execution_count": 20,
   "id": "e848bcc8-a595-4e47-b7ef-c24569129546",
   "metadata": {},
   "outputs": [],
   "source": [
    "# In a debugger, the Step Over, Step In, and Step Out buttons provide different ways to control code execution:\n",
    "\n",
    "# Step Over: Executes the current line of code and moves to the next line in the current function, skipping over any function calls without stepping into them.\n",
    "\n",
    "# Step In: Enters into the function or method call on the current line, allowing you to debug inside that function.\n",
    "\n",
    "# Step Out: Completes the execution of the current function and returns to the caller, moving up one level in the call stack."
   ]
  },
  {
   "cell_type": "code",
   "execution_count": 21,
   "id": "0a2bc0d6-af69-4f6b-9df4-3d06e3444f48",
   "metadata": {},
   "outputs": [],
   "source": [
    "# 10.After you click Continue, when will the debugger stop ?"
   ]
  },
  {
   "cell_type": "code",
   "execution_count": 22,
   "id": "313102b0-540a-4d77-a74b-ab073131a329",
   "metadata": {},
   "outputs": [],
   "source": [
    "\n",
    "# After you click \"Continue\" in a debugger, the debugger will stop when:\n",
    "\n",
    "# A Breakpoint is Hit: Execution reaches a line of code where a breakpoint is set.\n",
    "# An Exception Occurs: An unhandled exception is raised, if the debugger is configured to stop on exceptions.\n",
    "# The Program Completes: The program reaches its end or exits."
   ]
  },
  {
   "cell_type": "code",
   "execution_count": 23,
   "id": "65bc2ecf-232f-48da-a4c7-a83cc0da6642",
   "metadata": {},
   "outputs": [],
   "source": [
    "# 11. What is the concept of a breakpoint?"
   ]
  },
  {
   "cell_type": "code",
   "execution_count": 24,
   "id": "e31c8aaa-eefb-4685-8be6-af58db598a08",
   "metadata": {},
   "outputs": [],
   "source": [
    "# A breakpoint is a marker set in the code that instructs the debugger to pause execution at a specific line. This allows you to inspect the program’s state, such as variable values and memory, at that point in the execution. Breakpoints are essential for diagnosing and troubleshooting issues by enabling step-by-step execution and detailed examination of the code."
   ]
  },
  {
   "cell_type": "code",
   "execution_count": null,
   "id": "8bb95d21-2ad6-43c9-b7a8-649e2a6fb7b8",
   "metadata": {},
   "outputs": [],
   "source": []
  }
 ],
 "metadata": {
  "kernelspec": {
   "display_name": "Python 3 (ipykernel)",
   "language": "python",
   "name": "python3"
  },
  "language_info": {
   "codemirror_mode": {
    "name": "ipython",
    "version": 3
   },
   "file_extension": ".py",
   "mimetype": "text/x-python",
   "name": "python",
   "nbconvert_exporter": "python",
   "pygments_lexer": "ipython3",
   "version": "3.10.8"
  }
 },
 "nbformat": 4,
 "nbformat_minor": 5
}
